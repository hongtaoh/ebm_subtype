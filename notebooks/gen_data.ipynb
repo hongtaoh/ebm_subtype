{
 "cells": [
  {
   "cell_type": "code",
   "execution_count": 1,
   "metadata": {},
   "outputs": [],
   "source": [
    "import json "
   ]
  },
  {
   "cell_type": "code",
   "execution_count": 2,
   "metadata": {},
   "outputs": [],
   "source": [
    "original_biomarker_order = {\n",
    "    'AB': 1, 'ADAS': 2, 'AVLT-Sum': 3, 'FUS-FCI': 4, 'FUS-GMI': 5,\n",
    "    'HIP-FCI': 6, 'HIP-GMI': 7, 'MMSE': 8, 'P-Tau': 9, 'PCC-FCI': 10\n",
    "}"
   ]
  },
  {
   "cell_type": "code",
   "execution_count": 3,
   "metadata": {},
   "outputs": [],
   "source": [
    "with open('results.json', 'r') as f:\n",
    "    results = json.load(f)"
   ]
  },
  {
   "cell_type": "code",
   "execution_count": 8,
   "metadata": {},
   "outputs": [
    {
     "data": {
      "text/plain": [
       "[{'target_tau': -1.0,\n",
       "  'order': {'AB': 10,\n",
       "   'ADAS': 9,\n",
       "   'AVLT-Sum': 8,\n",
       "   'FUS-FCI': 7,\n",
       "   'FUS-GMI': 6,\n",
       "   'HIP-FCI': 5,\n",
       "   'HIP-GMI': 4,\n",
       "   'MMSE': 3,\n",
       "   'P-Tau': 2,\n",
       "   'PCC-FCI': 1},\n",
       "  'tau': -1.0},\n",
       " {'target_tau': -0.5,\n",
       "  'order': {'AB': 5,\n",
       "   'ADAS': 10,\n",
       "   'AVLT-Sum': 9,\n",
       "   'FUS-FCI': 7,\n",
       "   'FUS-GMI': 4,\n",
       "   'HIP-FCI': 6,\n",
       "   'HIP-GMI': 8,\n",
       "   'MMSE': 1,\n",
       "   'P-Tau': 3,\n",
       "   'PCC-FCI': 2},\n",
       "  'tau': -0.5111111111111111},\n",
       " {'target_tau': 0.0,\n",
       "  'order': {'AB': 3,\n",
       "   'ADAS': 6,\n",
       "   'AVLT-Sum': 5,\n",
       "   'FUS-FCI': 9,\n",
       "   'FUS-GMI': 2,\n",
       "   'HIP-FCI': 10,\n",
       "   'HIP-GMI': 7,\n",
       "   'MMSE': 1,\n",
       "   'P-Tau': 8,\n",
       "   'PCC-FCI': 4},\n",
       "  'tau': 0.022222222222222223},\n",
       " {'target_tau': 0.5,\n",
       "  'order': {'AB': 5,\n",
       "   'ADAS': 2,\n",
       "   'AVLT-Sum': 3,\n",
       "   'FUS-FCI': 4,\n",
       "   'FUS-GMI': 1,\n",
       "   'HIP-FCI': 8,\n",
       "   'HIP-GMI': 7,\n",
       "   'MMSE': 6,\n",
       "   'P-Tau': 10,\n",
       "   'PCC-FCI': 9},\n",
       "  'tau': 0.5111111111111111},\n",
       " {'target_tau': 0.9,\n",
       "  'order': {'AB': 2,\n",
       "   'ADAS': 1,\n",
       "   'AVLT-Sum': 3,\n",
       "   'FUS-FCI': 4,\n",
       "   'FUS-GMI': 5,\n",
       "   'HIP-FCI': 6,\n",
       "   'HIP-GMI': 7,\n",
       "   'MMSE': 8,\n",
       "   'P-Tau': 10,\n",
       "   'PCC-FCI': 9},\n",
       "  'tau': 0.911111111111111}]"
      ]
     },
     "execution_count": 8,
     "metadata": {},
     "output_type": "execute_result"
    }
   ],
   "source": [
    "results "
   ]
  },
  {
   "cell_type": "code",
   "execution_count": 6,
   "metadata": {},
   "outputs": [],
   "source": [
    "orders = [x['order'] for x in results]"
   ]
  },
  {
   "cell_type": "code",
   "execution_count": 7,
   "metadata": {},
   "outputs": [
    {
     "data": {
      "text/plain": [
       "[{'AB': 10,\n",
       "  'ADAS': 9,\n",
       "  'AVLT-Sum': 8,\n",
       "  'FUS-FCI': 7,\n",
       "  'FUS-GMI': 6,\n",
       "  'HIP-FCI': 5,\n",
       "  'HIP-GMI': 4,\n",
       "  'MMSE': 3,\n",
       "  'P-Tau': 2,\n",
       "  'PCC-FCI': 1},\n",
       " {'AB': 5,\n",
       "  'ADAS': 10,\n",
       "  'AVLT-Sum': 9,\n",
       "  'FUS-FCI': 7,\n",
       "  'FUS-GMI': 4,\n",
       "  'HIP-FCI': 6,\n",
       "  'HIP-GMI': 8,\n",
       "  'MMSE': 1,\n",
       "  'P-Tau': 3,\n",
       "  'PCC-FCI': 2},\n",
       " {'AB': 3,\n",
       "  'ADAS': 6,\n",
       "  'AVLT-Sum': 5,\n",
       "  'FUS-FCI': 9,\n",
       "  'FUS-GMI': 2,\n",
       "  'HIP-FCI': 10,\n",
       "  'HIP-GMI': 7,\n",
       "  'MMSE': 1,\n",
       "  'P-Tau': 8,\n",
       "  'PCC-FCI': 4},\n",
       " {'AB': 5,\n",
       "  'ADAS': 2,\n",
       "  'AVLT-Sum': 3,\n",
       "  'FUS-FCI': 4,\n",
       "  'FUS-GMI': 1,\n",
       "  'HIP-FCI': 8,\n",
       "  'HIP-GMI': 7,\n",
       "  'MMSE': 6,\n",
       "  'P-Tau': 10,\n",
       "  'PCC-FCI': 9},\n",
       " {'AB': 2,\n",
       "  'ADAS': 1,\n",
       "  'AVLT-Sum': 3,\n",
       "  'FUS-FCI': 4,\n",
       "  'FUS-GMI': 5,\n",
       "  'HIP-FCI': 6,\n",
       "  'HIP-GMI': 7,\n",
       "  'MMSE': 8,\n",
       "  'P-Tau': 10,\n",
       "  'PCC-FCI': 9}]"
      ]
     },
     "execution_count": 7,
     "metadata": {},
     "output_type": "execute_result"
    }
   ],
   "source": [
    "orders "
   ]
  },
  {
   "cell_type": "code",
   "execution_count": null,
   "metadata": {},
   "outputs": [],
   "source": []
  }
 ],
 "metadata": {
  "language_info": {
   "name": "python"
  }
 },
 "nbformat": 4,
 "nbformat_minor": 2
}
