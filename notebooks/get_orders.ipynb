{
 "cells": [
  {
   "cell_type": "code",
   "execution_count": 85,
   "metadata": {},
   "outputs": [],
   "source": [
    "import numpy as np \n",
    "from scipy.stats import kendalltau\n",
    "from typing import List, Dict, Tuple\n",
    "import json "
   ]
  },
  {
   "cell_type": "code",
   "execution_count": 86,
   "metadata": {},
   "outputs": [],
   "source": [
    "biomarker_order = {\n",
    "    'AB': 1, 'ADAS': 2, 'AVLT-Sum': 3, 'FUS-FCI': 4, 'FUS-GMI': 5,\n",
    "    'HIP-FCI': 6, 'HIP-GMI': 7, 'MMSE': 8, 'P-Tau': 9, 'PCC-FCI': 10\n",
    "}\n",
    "\n",
    "biomarkers = list(biomarker_order.keys())\n",
    "original_order = list(biomarker_order.values())"
   ]
  },
  {
   "cell_type": "code",
   "execution_count": 87,
   "metadata": {},
   "outputs": [],
   "source": [
    "def calculate_kendall_tau(order1:List[int], order2:List[int]) -> float:\n",
    "    tau, _ = kendalltau(order1, order2)\n",
    "    return tau "
   ]
  },
  {
   "cell_type": "code",
   "execution_count": 88,
   "metadata": {},
   "outputs": [],
   "source": [
    "def shuffle_order(arr: np.ndarray, n_shuffle: int) -> None:\n",
    "\n",
    "    \"\"\"\n",
    "    Randomly shuffle a specified number of elements in an array.\n",
    "\n",
    "    Args:\n",
    "    arr (np.ndarray): The array to shuffle elements in.\n",
    "    n_shuffle (int): The number of elements to shuffle within the array.\n",
    "    \"\"\"\n",
    "    # Validate input \n",
    "    if n_shuffle <= 1:\n",
    "        raise ValueError(\"n_shuffle must be >= 2 or =0\")\n",
    "    if n_shuffle > len(arr):\n",
    "        raise ValueError(\"n_shuffle cannot exceed array length\")\n",
    "    if n_shuffle == 0:\n",
    "        return \n",
    "\n",
    "    # Select indices and extract elements\n",
    "    indices = np.random.choice(len(arr), size=n_shuffle, replace=False)\n",
    "    original_indices = indices.copy()\n",
    "    \n",
    "    while True:\n",
    "        shuffled_indices = np.random.permutation(original_indices)\n",
    "        # Full derangement: make sure no indice stays in its original place\n",
    "        if not np.any(shuffled_indices == original_indices):\n",
    "            break \n",
    "    arr[indices] = arr[shuffled_indices]"
   ]
  },
  {
   "cell_type": "code",
   "execution_count": 92,
   "metadata": {},
   "outputs": [],
   "source": [
    "def generate_sequence_with_tau(\n",
    "    target_tau:float, \n",
    "    original_order:List[int],\n",
    "    max_attempts: int = 20000,\n",
    "    tolerance: float = 0.025,\n",
    "    n_shuffle: int = 5\n",
    "    ) -> Tuple[List[int], float]:\n",
    "    if target_tau == -1:\n",
    "        return original_order[::-1], -1\n",
    "    elif target_tau == 1:\n",
    "        return original_order.copy(), 1\n",
    "    else:\n",
    "        # np.random.permutation won't change origional_order inplace\n",
    "        current_order = np.random.permutation(original_order).astype(int)\n",
    "    current_tau = calculate_kendall_tau(original_order, current_order)\n",
    "    for _ in range(max_attempts):\n",
    "        new_order = current_order.copy()\n",
    "        shuffle_order(new_order, n_shuffle)\n",
    "        new_tau = calculate_kendall_tau(original_order, new_order)\n",
    "        # if the newly proposed order is closer to the target\n",
    "        if abs(new_tau - target_tau) < abs(current_tau - target_tau):\n",
    "            current_order = new_order \n",
    "            current_tau = new_tau \n",
    "        elif np.random.rand() < 0.01: #add randomness to the loop\n",
    "            current_order = new_order \n",
    "            current_tau = new_tau\n",
    "        if abs(current_tau - target_tau) < tolerance:\n",
    "            return current_order, current_tau\n",
    "    print(\"No exact match found within tolerance!\")\n",
    "    return current_order, current_tau"
   ]
  },
  {
   "cell_type": "code",
   "execution_count": 93,
   "metadata": {},
   "outputs": [],
   "source": [
    "target_taus = [-1.0, -0.5, 0, 0.5, 0.9]\n",
    "results = []\n",
    "for target_tau in target_taus:\n",
    "    order, tau = generate_sequence_with_tau(target_tau, original_order)\n",
    "    results.append({\n",
    "        'target_tau': float(target_tau), \n",
    "        'order': {key: int(value) for key, value in zip(biomarkers, order)},  # Convert to standard Python int\n",
    "        'tau': float(tau)  \n",
    "    })"
   ]
  },
  {
   "cell_type": "code",
   "execution_count": 94,
   "metadata": {},
   "outputs": [],
   "source": [
    "with open('results.json', \"w\") as f:\n",
    "    json.dump(results, f, indent=4)"
   ]
  }
 ],
 "metadata": {
  "language_info": {
   "name": "python"
  }
 },
 "nbformat": 4,
 "nbformat_minor": 2
}
